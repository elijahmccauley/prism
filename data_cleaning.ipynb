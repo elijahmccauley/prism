{
 "cells": [
  {
   "cell_type": "code",
   "execution_count": 2,
   "id": "0f437f58",
   "metadata": {},
   "outputs": [],
   "source": [
    "from pyspark.sql.functions import col"
   ]
  },
  {
   "cell_type": "code",
   "execution_count": 1,
   "id": "dfcd1082",
   "metadata": {},
   "outputs": [
    {
     "name": "stderr",
     "output_type": "stream",
     "text": [
      "WARNING: Using incubator modules: jdk.incubator.vector\n",
      "Using Spark's default log4j profile: org/apache/spark/log4j2-defaults.properties\n",
      "Setting default log level to \"WARN\".\n",
      "To adjust logging level use sc.setLogLevel(newLevel). For SparkR, use setLogLevel(newLevel).\n",
      "25/06/11 13:54:40 WARN NativeCodeLoader: Unable to load native-hadoop library for your platform... using builtin-java classes where applicable\n"
     ]
    },
    {
     "data": {
      "text/html": [
       "\n",
       "            <div>\n",
       "                <p><b>SparkSession - in-memory</b></p>\n",
       "                \n",
       "        <div>\n",
       "            <p><b>SparkContext</b></p>\n",
       "\n",
       "            <p><a href=\"http://elijahs-mbp.attlocal.net:4040\">Spark UI</a></p>\n",
       "\n",
       "            <dl>\n",
       "              <dt>Version</dt>\n",
       "                <dd><code>v4.0.0</code></dd>\n",
       "              <dt>Master</dt>\n",
       "                <dd><code>local[*]</code></dd>\n",
       "              <dt>AppName</dt>\n",
       "                <dd><code>TrackTimePrediction</code></dd>\n",
       "            </dl>\n",
       "        </div>\n",
       "        \n",
       "            </div>\n",
       "        "
      ],
      "text/plain": [
       "<pyspark.sql.session.SparkSession at 0x1659f6cc0>"
      ]
     },
     "execution_count": 1,
     "metadata": {},
     "output_type": "execute_result"
    }
   ],
   "source": [
    "import findspark\n",
    "findspark.init()\n",
    "\n",
    "from pyspark.sql import SparkSession\n",
    "\n",
    "spark = SparkSession.builder \\\n",
    "    .master(\"local[*]\") \\\n",
    "    .appName(\"TrackTimePrediction\") \\\n",
    "    .getOrCreate()\n",
    "\n",
    "spark"
   ]
  },
  {
   "cell_type": "code",
   "execution_count": 3,
   "id": "39d3099c",
   "metadata": {},
   "outputs": [
    {
     "name": "stdout",
     "output_type": "stream",
     "text": [
      "root\n",
      " |-- _c0: integer (nullable = true)\n",
      " |-- athlete_link: string (nullable = true)\n",
      " |-- athlete_name: string (nullable = true)\n",
      " |-- meet_date: string (nullable = true)\n",
      " |-- rank: integer (nullable = true)\n",
      " |-- team_link: string (nullable = true)\n",
      " |-- team_name: string (nullable = true)\n",
      " |-- time: string (nullable = true)\n",
      " |-- year: string (nullable = true)\n",
      "\n",
      "+---+--------------------+----------------+------------+----+--------------------+--------------+--------+----+\n",
      "|_c0|        athlete_link|    athlete_name|   meet_date|rank|           team_link|     team_name|    time|year|\n",
      "+---+--------------------+----------------+------------+----+--------------------+--------------+--------+----+\n",
      "|  0|https://tf.tfrrs....|   Wolfe, Parker| May 9, 2024|   1|https://tf.tfrrs....|North Carolina|13:19.38|JR-3|\n",
      "|  1|https://tf.tfrrs....|Mullarkey, David|Apr 26, 2024|   2|https://tf.tfrrs....| Florida State|13:28.43|JR-3|\n",
      "|  2|https://tf.tfrrs....|    Martin, Gary|Mar 28, 2024|   3|https://tf.tfrrs....|      Virginia|13:31.51|SO-2|\n",
      "|  3|https://tf.tfrrs....|Mountain, Nathan|Mar 28, 2024|   4|https://tf.tfrrs....|      Virginia|13:32.65|JR-3|\n",
      "|  4|https://tf.tfrrs....|   Phillip, Alex| May 9, 2024|   5|https://tf.tfrrs....|North Carolina|13:34.11|SR-4|\n",
      "|  5|https://tf.tfrrs....|   Anthony, Will|Apr 19, 2024|   6|https://tf.tfrrs....|      Virginia|13:35.50|FR-1|\n",
      "|  6|https://tf.tfrrs....|   Strand, Ethan|Apr 19, 2024|   7|https://tf.tfrrs....|North Carolina|13:36.57|SO-2|\n",
      "|  7|https://tf.tfrrs....|  Gebhardt, Jake|Apr 19, 2024|   8|https://tf.tfrrs....|North Carolina|13:43.18|SR-4|\n",
      "|  8|https://tf.tfrrs....|   Hansen, Rocky|Apr 19, 2024|   9|https://tf.tfrrs....|   Wake Forest|13:44.16|FR-1|\n",
      "|  9|https://tf.tfrrs....|     Porter, Wes|Mar 28, 2024|  10|https://tf.tfrrs....|      Virginia|13:44.24|JR-3|\n",
      "+---+--------------------+----------------+------------+----+--------------------+--------------+--------+----+\n",
      "only showing top 10 rows\n"
     ]
    },
    {
     "name": "stderr",
     "output_type": "stream",
     "text": [
      "25/06/11 14:01:03 WARN CSVHeaderChecker: CSV header does not conform to the schema.\n",
      " Header: , athlete_link, athlete_name, meet_date, rank, team_link, team_name, time, year\n",
      " Schema: _c0, athlete_link, athlete_name, meet_date, rank, team_link, team_name, time, year\n",
      "Expected: _c0 but found: \n",
      "CSV file: file:///Users/emccauley6/Documents/GitHub/prism/tfrrs_dataall.csv\n"
     ]
    }
   ],
   "source": [
    "file_path1 = \"./tfrrs_dataall.csv\"\n",
    "file_path2 = \"./tfrrs_remaining_archives.csv\"\n",
    "file_path3 = \"./tfrrs_current.csv\"\n",
    "\n",
    "df1 = spark.read.csv(file_path1, header=True, inferSchema=True)\n",
    "df2 = spark.read.csv(file_path2, header=True, inferSchema=True)\n",
    "df3 = spark.read.csv(file_path3, header=True, inferSchema=True)\n",
    "\n",
    "combined_df = df1.unionByName(df2).unionByName(df3)\n",
    "\n",
    "combined_df.printSchema()\n",
    "\n",
    "combined_df.show(10)"
   ]
  },
  {
   "cell_type": "code",
   "execution_count": 4,
   "id": "64c889e7",
   "metadata": {},
   "outputs": [
    {
     "name": "stderr",
     "output_type": "stream",
     "text": [
      "25/06/11 14:06:38 WARN CSVHeaderChecker: CSV header does not conform to the schema.\n",
      " Header: , athlete_link, athlete_name, meet_date, rank, team_link, team_name, time, year\n",
      " Schema: _c0, athlete_link, athlete_name, meet_date, rank, team_link, team_name, time, year\n",
      "Expected: _c0 but found: \n",
      "CSV file: file:///Users/emccauley6/Documents/GitHub/prism/tfrrs_dataall.csv\n",
      "25/06/11 14:06:38 WARN CSVHeaderChecker: CSV header does not conform to the schema.\n",
      " Header: , athlete_link, athlete_name, meet_date, rank, team_link, team_name, time, year\n",
      " Schema: _c0, athlete_link, athlete_name, meet_date, rank, team_link, team_name, time, year\n",
      "Expected: _c0 but found: \n",
      "CSV file: file:///Users/emccauley6/Documents/GitHub/prism/tfrrs_remaining_archives.csv\n",
      "25/06/11 14:06:38 WARN CSVHeaderChecker: CSV header does not conform to the schema.\n",
      " Header: , athlete_link, athlete_name, meet_date, rank, team_link, team_name, time, year\n",
      " Schema: _c0, athlete_link, athlete_name, meet_date, rank, team_link, team_name, time, year\n",
      "Expected: _c0 but found: \n",
      "CSV file: file:///Users/emccauley6/Documents/GitHub/prism/tfrrs_current.csv\n",
      "                                                                                \r"
     ]
    }
   ],
   "source": [
    "output_path = \"./tfrrs_database\"\n",
    "combined_df.coalesce(1).write \\\n",
    "    .option(\"header\", \"true\") \\\n",
    "    .mode(\"overwrite\") \\\n",
    "    .csv(output_path)"
   ]
  },
  {
   "cell_type": "code",
   "execution_count": 5,
   "id": "2617b182",
   "metadata": {},
   "outputs": [],
   "source": [
    "spark.stop()"
   ]
  }
 ],
 "metadata": {
  "kernelspec": {
   "display_name": "base",
   "language": "python",
   "name": "python3"
  },
  "language_info": {
   "codemirror_mode": {
    "name": "ipython",
    "version": 3
   },
   "file_extension": ".py",
   "mimetype": "text/x-python",
   "name": "python",
   "nbconvert_exporter": "python",
   "pygments_lexer": "ipython3",
   "version": "3.12.7"
  }
 },
 "nbformat": 4,
 "nbformat_minor": 5
}
