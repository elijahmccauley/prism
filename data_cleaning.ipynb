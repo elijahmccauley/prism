{
 "cells": [
  {
   "cell_type": "code",
   "execution_count": 23,
   "id": "0f437f58",
   "metadata": {},
   "outputs": [],
   "source": [
    "from pyspark.sql.functions import col, split, concat_ws"
   ]
  },
  {
   "cell_type": "code",
   "execution_count": 18,
   "id": "dfcd1082",
   "metadata": {},
   "outputs": [
    {
     "data": {
      "text/html": [
       "\n",
       "            <div>\n",
       "                <p><b>SparkSession - in-memory</b></p>\n",
       "                \n",
       "        <div>\n",
       "            <p><b>SparkContext</b></p>\n",
       "\n",
       "            <p><a href=\"http://elijahs-mbp.attlocal.net:4040\">Spark UI</a></p>\n",
       "\n",
       "            <dl>\n",
       "              <dt>Version</dt>\n",
       "                <dd><code>v4.0.0</code></dd>\n",
       "              <dt>Master</dt>\n",
       "                <dd><code>local[*]</code></dd>\n",
       "              <dt>AppName</dt>\n",
       "                <dd><code>TrackTimePrediction</code></dd>\n",
       "            </dl>\n",
       "        </div>\n",
       "        \n",
       "            </div>\n",
       "        "
      ],
      "text/plain": [
       "<pyspark.sql.session.SparkSession at 0x165ac1610>"
      ]
     },
     "execution_count": 18,
     "metadata": {},
     "output_type": "execute_result"
    }
   ],
   "source": [
    "import findspark\n",
    "findspark.init()\n",
    "\n",
    "from pyspark.sql import SparkSession\n",
    "\n",
    "spark = SparkSession.builder \\\n",
    "    .master(\"local[*]\") \\\n",
    "    .appName(\"TrackTimePrediction\") \\\n",
    "    .getOrCreate()\n",
    "\n",
    "spark"
   ]
  },
  {
   "cell_type": "code",
   "execution_count": 15,
   "id": "39d3099c",
   "metadata": {},
   "outputs": [
    {
     "name": "stdout",
     "output_type": "stream",
     "text": [
      "root\n",
      " |-- _c0: integer (nullable = true)\n",
      " |-- athlete_link: string (nullable = true)\n",
      " |-- athlete_name: string (nullable = true)\n",
      " |-- meet_date: string (nullable = true)\n",
      " |-- rank: integer (nullable = true)\n",
      " |-- team_link: string (nullable = true)\n",
      " |-- team_name: string (nullable = true)\n",
      " |-- time: string (nullable = true)\n",
      " |-- year: string (nullable = true)\n",
      "\n",
      "+---+--------------------+----------------+------------+----+--------------------+--------------+--------+----+\n",
      "|_c0|        athlete_link|    athlete_name|   meet_date|rank|           team_link|     team_name|    time|year|\n",
      "+---+--------------------+----------------+------------+----+--------------------+--------------+--------+----+\n",
      "|  0|https://tf.tfrrs....|   Wolfe, Parker| May 9, 2024|   1|https://tf.tfrrs....|North Carolina|13:19.38|JR-3|\n",
      "|  1|https://tf.tfrrs....|Mullarkey, David|Apr 26, 2024|   2|https://tf.tfrrs....| Florida State|13:28.43|JR-3|\n",
      "|  2|https://tf.tfrrs....|    Martin, Gary|Mar 28, 2024|   3|https://tf.tfrrs....|      Virginia|13:31.51|SO-2|\n",
      "|  3|https://tf.tfrrs....|Mountain, Nathan|Mar 28, 2024|   4|https://tf.tfrrs....|      Virginia|13:32.65|JR-3|\n",
      "|  4|https://tf.tfrrs....|   Phillip, Alex| May 9, 2024|   5|https://tf.tfrrs....|North Carolina|13:34.11|SR-4|\n",
      "|  5|https://tf.tfrrs....|   Anthony, Will|Apr 19, 2024|   6|https://tf.tfrrs....|      Virginia|13:35.50|FR-1|\n",
      "|  6|https://tf.tfrrs....|   Strand, Ethan|Apr 19, 2024|   7|https://tf.tfrrs....|North Carolina|13:36.57|SO-2|\n",
      "|  7|https://tf.tfrrs....|  Gebhardt, Jake|Apr 19, 2024|   8|https://tf.tfrrs....|North Carolina|13:43.18|SR-4|\n",
      "|  8|https://tf.tfrrs....|   Hansen, Rocky|Apr 19, 2024|   9|https://tf.tfrrs....|   Wake Forest|13:44.16|FR-1|\n",
      "|  9|https://tf.tfrrs....|     Porter, Wes|Mar 28, 2024|  10|https://tf.tfrrs....|      Virginia|13:44.24|JR-3|\n",
      "+---+--------------------+----------------+------------+----+--------------------+--------------+--------+----+\n",
      "only showing top 10 rows\n"
     ]
    },
    {
     "name": "stderr",
     "output_type": "stream",
     "text": [
      "25/06/11 14:34:15 WARN CSVHeaderChecker: CSV header does not conform to the schema.\n",
      " Header: , athlete_link, athlete_name, meet_date, rank, team_link, team_name, time, year\n",
      " Schema: _c0, athlete_link, athlete_name, meet_date, rank, team_link, team_name, time, year\n",
      "Expected: _c0 but found: \n",
      "CSV file: file:///Users/emccauley6/Documents/GitHub/prism/tfrrs_dataall.csv\n"
     ]
    }
   ],
   "source": [
    "file_path1 = \"./tfrrs_dataall.csv\"\n",
    "file_path2 = \"./tfrrs_remaining_archives.csv\"\n",
    "file_path3 = \"./tfrrs_current.csv\"\n",
    "\n",
    "df1 = spark.read.csv(file_path1, header=True, inferSchema=True)\n",
    "df2 = spark.read.csv(file_path2, header=True, inferSchema=True)\n",
    "df3 = spark.read.csv(file_path3, header=True, inferSchema=True)\n",
    "\n",
    "combined_df = df1.unionByName(df2).unionByName(df3)\n",
    "\n",
    "combined_df.printSchema()\n",
    "\n",
    "combined_df.show(10)"
   ]
  },
  {
   "cell_type": "code",
   "execution_count": 16,
   "id": "64c889e7",
   "metadata": {},
   "outputs": [
    {
     "name": "stderr",
     "output_type": "stream",
     "text": [
      "25/06/11 14:35:25 WARN CSVHeaderChecker: CSV header does not conform to the schema.\n",
      " Header: , athlete_link, athlete_name, meet_date, rank, team_link, team_name, time, year\n",
      " Schema: _c0, athlete_link, athlete_name, meet_date, rank, team_link, team_name, time, year\n",
      "Expected: _c0 but found: \n",
      "CSV file: file:///Users/emccauley6/Documents/GitHub/prism/tfrrs_dataall.csv\n",
      "25/06/11 14:35:26 WARN CSVHeaderChecker: CSV header does not conform to the schema.\n",
      " Header: , athlete_link, athlete_name, meet_date, rank, team_link, team_name, time, year\n",
      " Schema: _c0, athlete_link, athlete_name, meet_date, rank, team_link, team_name, time, year\n",
      "Expected: _c0 but found: \n",
      "CSV file: file:///Users/emccauley6/Documents/GitHub/prism/tfrrs_remaining_archives.csv\n",
      "25/06/11 14:35:26 WARN CSVHeaderChecker: CSV header does not conform to the schema.\n",
      " Header: , athlete_link, athlete_name, meet_date, rank, team_link, team_name, time, year\n",
      " Schema: _c0, athlete_link, athlete_name, meet_date, rank, team_link, team_name, time, year\n",
      "Expected: _c0 but found: \n",
      "CSV file: file:///Users/emccauley6/Documents/GitHub/prism/tfrrs_current.csv\n"
     ]
    }
   ],
   "source": [
    "output_path = \"./tfrrs_database\"\n",
    "combined_df.coalesce(1).write \\\n",
    "    .option(\"header\", \"true\") \\\n",
    "    .mode(\"append\") \\\n",
    "    .csv(output_path)"
   ]
  },
  {
   "cell_type": "code",
   "execution_count": 17,
   "id": "2617b182",
   "metadata": {},
   "outputs": [],
   "source": [
    "spark.stop()"
   ]
  },
  {
   "cell_type": "code",
   "execution_count": 8,
   "id": "8eef1f00",
   "metadata": {},
   "outputs": [
    {
     "name": "stdout",
     "output_type": "stream",
     "text": [
      "90148\n"
     ]
    }
   ],
   "source": [
    "file_path1 = \"./tfrrs_database/tfrrs_raw.csv\"\n",
    "df = spark.read.csv(file_path1, header=True, inferSchema=True)\n",
    "print(df.count())"
   ]
  },
  {
   "cell_type": "code",
   "execution_count": 12,
   "id": "41c3af83",
   "metadata": {},
   "outputs": [
    {
     "name": "stdout",
     "output_type": "stream",
     "text": [
      "68568\n"
     ]
    }
   ],
   "source": [
    "print(df.dropDuplicates(['athlete_name', 'time', 'meet_date', 'year', 'team_name']).count())\n"
   ]
  },
  {
   "cell_type": "code",
   "execution_count": null,
   "id": "09cd8aea",
   "metadata": {},
   "outputs": [
    {
     "name": "stderr",
     "output_type": "stream",
     "text": [
      "[Stage 31:===========>                                              (1 + 4) / 5]\r"
     ]
    },
    {
     "name": "stdout",
     "output_type": "stream",
     "text": [
      "+-----+--------------------+--------------------+------------+----+--------------------+------------------+--------+----+\n",
      "|  _c0|        athlete_link|        athlete_name|   meet_date|rank|           team_link|         team_name|    time|year|\n",
      "+-----+--------------------+--------------------+------------+----+--------------------+------------------+--------+----+\n",
      "|78526|https://tf.tfrrs....|        Aardal, Erik| Mar 4, 2010|  24|https://tf.tfrrs....|  UC Santa Barbara|14:57.19|SR-4|\n",
      "|18044|https://tf.tfrrs....|     Abberton , Rory|Apr 13, 2022|   4|https://tf.tfrrs....|       Chico State|14:26.48|SR-4|\n",
      "|17520|https://tf.tfrrs....|         Abbes, Gabe|May 13, 2022|  58|https://tf.tfrrs....|        California|14:55.80|FR-1|\n",
      "|13378|https://tf.tfrrs....|       Abbott, Devin|Apr 14, 2023| 200|https://tf.tfrrs....|St. Joseph's (Me.)|16:44.19|SR-4|\n",
      "|24503|https://tf.tfrrs....|Abdellatif, Shimeles|Apr 24, 2021|   7|https://tf.tfrrs....|      Prairie View|15:56.58|FR-1|\n",
      "|  698|https://tf.tfrrs....|  Abdelmagid, Ashraf| May 3, 2025|   3|https://tf.tfrrs....|      UC Riverside|13:51.21|SR-4|\n",
      "|30999|https://tf.tfrrs....|     Abdi, Abdinasir|Apr 12, 2019|  25|https://tf.tfrrs....|      South Dakota|15:51.05|NULL|\n",
      "|16425|https://tf.tfrrs....|        Abdi, Keynan|Apr 13, 2022|  22|https://tf.tfrrs....|    Portland State|14:12.71|JR-3|\n",
      "|67470|https://tf.tfrrs....|   Abdoulaye, Keneme| May 3, 2013|  10|https://tf.tfrrs....|   Kingsborough CC|17:54.92|FR-1|\n",
      "| 3447|https://tf.tfrrs....|      Abdullah, Sage|Mar 14, 2025|   6|https://tf.tfrrs....|      Albany State|16:44.57|SR-4|\n",
      "+-----+--------------------+--------------------+------------+----+--------------------+------------------+--------+----+\n",
      "only showing top 10 rows\n"
     ]
    },
    {
     "name": "stderr",
     "output_type": "stream",
     "text": [
      "                                                                                \r"
     ]
    }
   ],
   "source": [
    "df_no_dupes = df.dropDuplicates(['athlete_name', 'time', 'meet_date', 'year', 'team_name'])\n",
    "df_no_dupes.show(10)\n"
   ]
  },
  {
   "cell_type": "code",
   "execution_count": 14,
   "id": "71bf1f73",
   "metadata": {},
   "outputs": [
    {
     "name": "stderr",
     "output_type": "stream",
     "text": [
      "                                                                                \r"
     ]
    }
   ],
   "source": [
    "output_path = \"./tfrrs_database\"\n",
    "df_no_dupes.coalesce(1).write \\\n",
    "    .option(\"header\", \"true\") \\\n",
    "    .mode(\"overwrite\") \\\n",
    "    .csv(output_path)"
   ]
  },
  {
   "cell_type": "markdown",
   "id": "087b93ba",
   "metadata": {},
   "source": [
    "Clean the milesplit dataset to only have names not names and schools"
   ]
  },
  {
   "cell_type": "code",
   "execution_count": 21,
   "id": "7fb97604",
   "metadata": {},
   "outputs": [
    {
     "name": "stdout",
     "output_type": "stream",
     "text": [
      "+---+----------+--------------------+-----+-----+------+-----+-----+-----+------+-------+-------+-------+-------+-------+-------+-------+-------+------+------+------+------+\n",
      "|_c0|Unnamed: 0|      Athlete/School|Grade|State|Gender|FR_5k|SO_5k|JR_5k| SR_5k|FR_3200|SO_3200|JR_3200|SR_3200|FR_1600|SO_1600|JR_1600|SR_1600|FR_800|SO_800|JR_800|SR_800|\n",
      "+---+----------+--------------------+-----+-----+------+-----+-----+-----+------+-------+-------+-------+-------+-------+-------+-------+-------+------+------+------+------+\n",
      "|  0|         0|A Bremer Atascade...| 2009|   CA|  Boys| NULL| NULL| NULL|  NULL|   NULL|   NULL|   NULL|   NULL|   NULL|   NULL|   NULL|   NULL|  NULL|  NULL|  NULL| 125.3|\n",
      "|  1|         1|A Lopez Paso Robl...| 2010|   CA|  Boys| NULL| NULL| NULL|  NULL|   NULL|  633.6|   NULL|   NULL|   NULL|   NULL|   NULL|   NULL|  NULL|  NULL|  NULL|  NULL|\n",
      "|  2|         2|A j Stevens Sulta...| 2012|   CA|  Boys| NULL| NULL| NULL| 982.7|   NULL|   NULL|   NULL|   NULL|   NULL|   NULL|   NULL|   NULL|  NULL|  NULL| 125.4| 125.7|\n",
      "|  3|         3|A. J Kimura El To...| 2008|   CA|  Boys| NULL| NULL| NULL|1001.3|   NULL|   NULL|   NULL|   NULL|   NULL|   NULL|   NULL|   NULL|  NULL|  NULL|  NULL|  NULL|\n",
      "|  4|         4|A. J Sommers Elk ...| 2016|   CA|  Boys| NULL| NULL| NULL|  NULL|   NULL|   NULL|   NULL|   NULL|   NULL|   NULL|   NULL|   NULL|  NULL|  NULL| 119.1| 116.9|\n",
      "|  5|         5|A. J. Aldrian Mur...| 2016|   CA|  Boys| NULL| NULL|985.8|  NULL|   NULL|   NULL|   NULL|   NULL|   NULL|   NULL|   NULL|   NULL|  NULL|  NULL|  NULL|  NULL|\n",
      "|  6|         6|A.j Licon Alta Lo...| 2010|   CA|  Boys| NULL| NULL| NULL| 992.0|   NULL|   NULL|   NULL|   NULL|   NULL|   NULL|   NULL|   NULL|  NULL|  NULL|  NULL|  NULL|\n",
      "|  7|         7|A.j Singh Wood (W...| 2015|   CA|  Boys| NULL| NULL| NULL|  NULL|   NULL|  598.5|   NULL|   NULL|   NULL|   NULL|   NULL|   NULL|  NULL|  NULL|  NULL|  NULL|\n",
      "|  8|         8|A.j. Sager El Cap...| 2020|   CA|  Boys| NULL| NULL|976.5|  NULL|   NULL|   NULL|   NULL|   NULL|   NULL|   NULL|   NULL|   NULL|  NULL|  NULL|  NULL|  NULL|\n",
      "|  9|         9|AK Metoyer Clarem...| 2011|   CA|  Boys| NULL| NULL| NULL|  NULL|   NULL|   NULL|   NULL|  617.2|   NULL|   NULL|   NULL|   NULL|  NULL|  NULL|  NULL|  NULL|\n",
      "+---+----------+--------------------+-----+-----+------+-----+-----+-----+------+-------+-------+-------+-------+-------+-------+-------+-------+------+------+------+------+\n",
      "only showing top 10 rows\n"
     ]
    },
    {
     "name": "stderr",
     "output_type": "stream",
     "text": [
      "25/06/11 15:24:36 WARN CSVHeaderChecker: CSV header does not conform to the schema.\n",
      " Header: , Unnamed: 0, Athlete/School, Grade, State, Gender, FR_5k, SO_5k, JR_5k, SR_5k, FR_3200, SO_3200, JR_3200, SR_3200, FR_1600, SO_1600, JR_1600, SR_1600, FR_800, SO_800, JR_800, SR_800\n",
      " Schema: _c0, Unnamed: 0, Athlete/School, Grade, State, Gender, FR_5k, SO_5k, JR_5k, SR_5k, FR_3200, SO_3200, JR_3200, SR_3200, FR_1600, SO_1600, JR_1600, SR_1600, FR_800, SO_800, JR_800, SR_800\n",
      "Expected: _c0 but found: \n",
      "CSV file: file:///Users/emccauley6/Documents/GitHub/prism/basic_HS_database.csv\n"
     ]
    }
   ],
   "source": [
    "file_path1 = \"./basic_HS_database.csv\"\n",
    "milesplit_df = spark.read.csv(file_path1, header=True, inferSchema=True)\n",
    "milesplit_df.show(10)"
   ]
  },
  {
   "cell_type": "code",
   "execution_count": 26,
   "id": "e0b9541e",
   "metadata": {},
   "outputs": [
    {
     "name": "stdout",
     "output_type": "stream",
     "text": [
      "+--------------------------------------------+-----------------+\n",
      "|Athlete/School                              |athlete_name     |\n",
      "+--------------------------------------------+-----------------+\n",
      "|A Bremer Atascadero (CS)                    |A Bremer         |\n",
      "|A Lopez Paso Robles (CS)                    |A Lopez          |\n",
      "|A j Stevens Sultana (SS)                    |A j              |\n",
      "|A. J Kimura El Toro (SS)                    |A. J             |\n",
      "|A. J Sommers Elk Grove (SJ)                 |A. J             |\n",
      "|A. J. Aldrian Murrieta Valley (SS)          |A. J.            |\n",
      "|A.j Licon Alta Loma (SS)                    |A.j Licon        |\n",
      "|A.j Singh Wood (Will C.) (SJ)               |A.j Singh        |\n",
      "|A.j. Sager El Capitan (SD)                  |A.j. Sager       |\n",
      "|AK Metoyer Claremont (SS)                   |AK Metoyer       |\n",
      "|ANDREW PIERCE North Monterey County (CC)    |ANDREW PIERCE    |\n",
      "|ANTHONY GOTTI St. Francis Salesian Prep (CC)|ANTHONY GOTTI    |\n",
      "|Aakarsh Gopisetty Washington (NC)           |Aakarsh Gopisetty|\n",
      "|Aakash Arumugam Rocklin (SJ)                |Aakash Arumugam  |\n",
      "|Aakash Arumugam Sacramento Country Day (SJ) |Aakash Arumugam  |\n",
      "|Aakash Kadakia Brea Olinda (SS)             |Aakash Kadakia   |\n",
      "|Aakersh Mathur Monte Vista (NC)             |Aakersh Mathur   |\n",
      "|Aamir Rehman Santa Monica (SS)              |Aamir Rehman     |\n",
      "|Aaren Cortes Rancho Cucamonga (SS)          |Aaren Cortes     |\n",
      "|Aarij Gora Northwood (SS)                   |Aarij Gora       |\n",
      "+--------------------------------------------+-----------------+\n",
      "only showing top 20 rows\n"
     ]
    }
   ],
   "source": [
    "milesplit_just_names = milesplit_df.withColumn(\n",
    "    \"athlete_name\",\n",
    "    concat_ws(\n",
    "        \" \", # The separator you want to use\n",
    "        split(col(\"Athlete/School\"), \" \").getItem(0), # The first word\n",
    "        split(col(\"Athlete/School\"), \" \").getItem(1)  # The second word\n",
    "    )\n",
    ")\n",
    "milesplit_just_names.select(\"Athlete/School\", \"athlete_name\").show(truncate=False)"
   ]
  },
  {
   "cell_type": "code",
   "execution_count": 27,
   "id": "cb391357",
   "metadata": {},
   "outputs": [
    {
     "name": "stderr",
     "output_type": "stream",
     "text": [
      "25/06/11 15:32:26 WARN CSVHeaderChecker: CSV header does not conform to the schema.\n",
      " Header: , Unnamed: 0, Athlete/School, Grade, State, Gender, FR_5k, SO_5k, JR_5k, SR_5k, FR_3200, SO_3200, JR_3200, SR_3200, FR_1600, SO_1600, JR_1600, SR_1600, FR_800, SO_800, JR_800, SR_800\n",
      " Schema: _c0, Unnamed: 0, Athlete/School, Grade, State, Gender, FR_5k, SO_5k, JR_5k, SR_5k, FR_3200, SO_3200, JR_3200, SR_3200, FR_1600, SO_1600, JR_1600, SR_1600, FR_800, SO_800, JR_800, SR_800\n",
      "Expected: _c0 but found: \n",
      "CSV file: file:///Users/emccauley6/Documents/GitHub/prism/basic_HS_database.csv\n",
      "                                                                                \r"
     ]
    }
   ],
   "source": [
    "output_path = \"./milesplit_database\"\n",
    "milesplit_just_names.coalesce(1).write \\\n",
    "    .option(\"header\", \"true\") \\\n",
    "    .mode(\"overwrite\") \\\n",
    "    .csv(output_path)"
   ]
  }
 ],
 "metadata": {
  "kernelspec": {
   "display_name": "base",
   "language": "python",
   "name": "python3"
  },
  "language_info": {
   "codemirror_mode": {
    "name": "ipython",
    "version": 3
   },
   "file_extension": ".py",
   "mimetype": "text/x-python",
   "name": "python",
   "nbconvert_exporter": "python",
   "pygments_lexer": "ipython3",
   "version": "3.12.7"
  }
 },
 "nbformat": 4,
 "nbformat_minor": 5
}
