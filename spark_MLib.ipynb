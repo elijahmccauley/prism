{
 "cells": [
  {
   "cell_type": "code",
   "execution_count": 8,
   "id": "0f437f58",
   "metadata": {},
   "outputs": [],
   "source": [
    "from pyspark.sql.functions import col, split, concat_ws, when, size, min, trim, round"
   ]
  },
  {
   "cell_type": "code",
   "execution_count": 19,
   "id": "088cf793",
   "metadata": {},
   "outputs": [],
   "source": [
    "from pyspark.ml.feature import VectorAssembler\n",
    "from pyspark.ml.regression import GBTRegressor\n",
    "from pyspark.ml.evaluation import RegressionEvaluator"
   ]
  },
  {
   "cell_type": "code",
   "execution_count": 4,
   "id": "dfcd1082",
   "metadata": {},
   "outputs": [
    {
     "name": "stderr",
     "output_type": "stream",
     "text": [
      "WARNING: Using incubator modules: jdk.incubator.vector\n",
      "Using Spark's default log4j profile: org/apache/spark/log4j2-defaults.properties\n",
      "Setting default log level to \"WARN\".\n",
      "To adjust logging level use sc.setLogLevel(newLevel). For SparkR, use setLogLevel(newLevel).\n",
      "25/06/13 12:03:08 WARN NativeCodeLoader: Unable to load native-hadoop library for your platform... using builtin-java classes where applicable\n"
     ]
    },
    {
     "data": {
      "text/html": [
       "\n",
       "            <div>\n",
       "                <p><b>SparkSession - in-memory</b></p>\n",
       "                \n",
       "        <div>\n",
       "            <p><b>SparkContext</b></p>\n",
       "\n",
       "            <p><a href=\"http://elijahs-mbp.attlocal.net:4040\">Spark UI</a></p>\n",
       "\n",
       "            <dl>\n",
       "              <dt>Version</dt>\n",
       "                <dd><code>v4.0.0</code></dd>\n",
       "              <dt>Master</dt>\n",
       "                <dd><code>local[*]</code></dd>\n",
       "              <dt>AppName</dt>\n",
       "                <dd><code>TrackTimePrediction</code></dd>\n",
       "            </dl>\n",
       "        </div>\n",
       "        \n",
       "            </div>\n",
       "        "
      ],
      "text/plain": [
       "<pyspark.sql.session.SparkSession at 0x15766f6e0>"
      ]
     },
     "execution_count": 4,
     "metadata": {},
     "output_type": "execute_result"
    }
   ],
   "source": [
    "import findspark\n",
    "findspark.init()\n",
    "\n",
    "from pyspark.sql import SparkSession\n",
    "\n",
    "spark = SparkSession.builder \\\n",
    "    .master(\"local[*]\") \\\n",
    "    .appName(\"TrackTimePrediction\") \\\n",
    "    .getOrCreate()\n",
    "\n",
    "spark"
   ]
  },
  {
   "cell_type": "code",
   "execution_count": null,
   "id": "2617b182",
   "metadata": {},
   "outputs": [],
   "source": [
    "spark.stop()"
   ]
  },
  {
   "cell_type": "markdown",
   "id": "df91306a",
   "metadata": {},
   "source": [
    "Machine learning time"
   ]
  },
  {
   "cell_type": "code",
   "execution_count": 6,
   "id": "8eef1f00",
   "metadata": {},
   "outputs": [
    {
     "name": "stdout",
     "output_type": "stream",
     "text": [
      "2116\n",
      "+-------------+-----+----------+--------------------+-----+-----+------+-----+-----+------+------+-------+-------+-------+-------+-------+-------+-------+-------+------+------+------+------+-------+-----------------+\n",
      "| athlete_name|  _c0|Unnamed: 0|      Athlete/School|Grade|State|Gender|FR_5k|SO_5k| JR_5k| SR_5k|FR_3200|SO_3200|JR_3200|SR_3200|FR_1600|SO_1600|JR_1600|SR_1600|FR_800|SO_800|JR_800|SR_800|     id|       PR_seconds|\n",
      "+-------------+-----+----------+--------------------+-----+-----+------+-----+-----+------+------+-------+-------+-------+-------+-------+-------+-------+-------+------+------+------+------+-------+-----------------+\n",
      "|Camron Gaddis|66230|      3024|Camron Gaddis Col...| 2022|   GA|  Boys| NULL| NULL|1093.4|1037.4|   NULL|  683.8|   NULL|  623.9|   NULL|  303.4|  294.6|  287.2|  NULL| 138.5|  NULL| 126.5|8265308|932.5400009155273|\n",
      "+-------------+-----+----------+--------------------+-----+-----+------+-----+-----+------+------+-------+-------+-------+-------+-------+-------+-------+-------+------+------+------+------+-------+-----------------+\n",
      "only showing top 1 row\n"
     ]
    }
   ],
   "source": [
    "file_path1 = \"./final_database/merged_half_thresh.csv\"\n",
    "df = spark.read.csv(file_path1, header=True, inferSchema=True)\n",
    "print(df.count())\n",
    "df.show(1)"
   ]
  },
  {
   "cell_type": "markdown",
   "id": "5ccc9485",
   "metadata": {},
   "source": [
    "To deal with NULLs, will try imputing with an indicator column, and simply setting the NULLs to a very large value. The first is more robust, but I worry about setting nulls to the mean since I am hoping to capture trends"
   ]
  },
  {
   "cell_type": "code",
   "execution_count": 12,
   "id": "cf1d81c9",
   "metadata": {},
   "outputs": [
    {
     "name": "stdout",
     "output_type": "stream",
     "text": [
      "+-------------+-----+----------+--------------------+-----+-----+------+---------+---------+-----------------+-----------------+---------+-------+---------+-------+---------+---------+---------+-------+---------+---------+---------+---------+-------+------------------+\n",
      "| athlete_name|  _c0|Unnamed: 0|      Athlete/School|Grade|State|Gender|    FR_5k|    SO_5k|            JR_5k|            SR_5k|  FR_3200|SO_3200|  JR_3200|SR_3200|  FR_1600|  SO_1600|  JR_1600|SR_1600|   FR_800|   SO_800|   JR_800|   SR_800|     id|        PR_seconds|\n",
      "+-------------+-----+----------+--------------------+-----+-----+------+---------+---------+-----------------+-----------------+---------+-------+---------+-------+---------+---------+---------+-------+---------+---------+---------+---------+-------+------------------+\n",
      "|Camron Gaddis|66230|      3024|Camron Gaddis Col...| 2022|   GA|  Boys|9999999.0|9999999.0|           1093.4|           1037.4|9999999.0|  683.8|9999999.0|  623.9|9999999.0|    303.4|    294.6|  287.2|9999999.0|    138.5|9999999.0|    126.5|8265308| 932.5400009155273|\n",
      "|   David Leff|26655|      6195|David Leff West G...| 2017|   NY|  Boys|    984.3|    995.1|            978.2|            941.3|    585.8|  594.9|    557.2|  573.5|    269.6|    268.8|    257.3|  268.7|    127.1|9999999.0|    118.4|9999999.0|6430621| 872.3899993896484|\n",
      "|Brandon Perry| 2926|      2926|Brandon Perry Arn...| 2011|   CA|  Boys|9999999.0|  1012.77|956.8666666666668|933.9266666666666|    638.2|  589.3|    575.9|  567.9|9999999.0|9999999.0|9999999.0|  262.2|9999999.0|9999999.0|9999999.0|9999999.0|3764651|  902.539999961853|\n",
      "|  Aiden Ayala|63550|       344|Aiden Ayala Gaine...| 2022|   GA|  Boys|9999999.0|   1050.0|           1025.0|           1046.3|    661.7|  641.3|    623.5|  635.4|9999999.0|    301.0|    289.0|  286.6|9999999.0|9999999.0|    131.8|    126.5|8235001|1072.4599990844727|\n",
      "|   Cade Eells|24002|      3542|Cade Eells Ithaca...| 2021|   NY|  Boys|   1041.2|   1034.0|           1009.5|        9999999.0|    614.3|  615.0|9999999.0|  597.7|    290.8|9999999.0|9999999.0|  272.3|9999999.0|9999999.0|9999999.0|    127.2|7993015| 920.5200004577637|\n",
      "+-------------+-----+----------+--------------------+-----+-----+------+---------+---------+-----------------+-----------------+---------+-------+---------+-------+---------+---------+---------+-------+---------+---------+---------+---------+-------+------------------+\n",
      "only showing top 5 rows\n"
     ]
    }
   ],
   "source": [
    "df = df.fillna(9999999, subset=['FR_5k', 'SO_5k', 'JR_5k', 'SR_5k', 'FR_3200', 'SO_3200', 'JR_3200', 'SR_3200', 'FR_1600', 'SO_1600', 'JR_1600', 'SR_1600', 'FR_800', 'SO_800', 'JR_800', 'SR_800'])\n",
    "df.show(5)"
   ]
  },
  {
   "cell_type": "code",
   "execution_count": 13,
   "id": "c6d5fda9",
   "metadata": {},
   "outputs": [
    {
     "name": "stdout",
     "output_type": "stream",
     "text": [
      "+-----------------------------------------------------------------------------------------------------------------------------------------------------------+------------------+\n",
      "|features                                                                                                                                                   |PR_seconds        |\n",
      "+-----------------------------------------------------------------------------------------------------------------------------------------------------------+------------------+\n",
      "|[9999999.0,9999999.0,1093.4,1037.4,9999999.0,683.8,9999999.0,623.9,9999999.0,303.4,294.6,287.2,9999999.0,138.5,9999999.0,126.5]                            |932.5400009155273 |\n",
      "|[984.3,995.1,978.2,941.3,585.8,594.9,557.2,573.5,269.6,268.8,257.3,268.7,127.1,9999999.0,118.4,9999999.0]                                                  |872.3899993896484 |\n",
      "|[9999999.0,1012.77,956.8666666666668,933.9266666666666,638.2,589.3,575.9,567.9,9999999.0,9999999.0,9999999.0,262.2,9999999.0,9999999.0,9999999.0,9999999.0]|902.539999961853  |\n",
      "|[9999999.0,1050.0,1025.0,1046.3,661.7,641.3,623.5,635.4,9999999.0,301.0,289.0,286.6,9999999.0,9999999.0,131.8,126.5]                                       |1072.4599990844727|\n",
      "|[1041.2,1034.0,1009.5,9999999.0,614.3,615.0,9999999.0,597.7,290.8,9999999.0,9999999.0,272.3,9999999.0,9999999.0,9999999.0,127.2]                           |920.5200004577637 |\n",
      "+-----------------------------------------------------------------------------------------------------------------------------------------------------------+------------------+\n",
      "only showing top 5 rows\n"
     ]
    }
   ],
   "source": [
    "feature_cols = ['FR_5k', 'SO_5k', 'JR_5k', 'SR_5k', 'FR_3200', 'SO_3200', 'JR_3200', 'SR_3200', 'FR_1600', 'SO_1600', 'JR_1600', 'SR_1600', 'FR_800', 'SO_800', 'JR_800', 'SR_800']\n",
    "assembler = VectorAssembler(inputCols=feature_cols, outputCol=\"features\", handleInvalid='keep')\n",
    "model_df = assembler.transform(df)\n",
    "model_df.select('features', 'PR_seconds').show(5, truncate=False)"
   ]
  },
  {
   "cell_type": "code",
   "execution_count": 29,
   "id": "97e31773",
   "metadata": {},
   "outputs": [
    {
     "name": "stdout",
     "output_type": "stream",
     "text": [
      "Training Dataset Count: 1683\n",
      "Test Dataset Count: 433\n"
     ]
    }
   ],
   "source": [
    "train_data, test_data = model_df.randomSplit(weights=[0.8, 0.2], seed=27)\n",
    "print(f\"Training Dataset Count: {train_data.count()}\")\n",
    "print(f\"Test Dataset Count: {test_data.count()}\")"
   ]
  },
  {
   "cell_type": "code",
   "execution_count": 30,
   "id": "c8456cc7",
   "metadata": {},
   "outputs": [
    {
     "name": "stdout",
     "output_type": "stream",
     "text": [
      "Training the GBT model...\n",
      "Training complete.\n"
     ]
    }
   ],
   "source": [
    "gbt = GBTRegressor(featuresCol='features', labelCol='PR_seconds')\n",
    "print(\"Training the GBT model...\")\n",
    "gbt_model = gbt.fit(train_data)\n",
    "print(\"Training complete.\")"
   ]
  },
  {
   "cell_type": "code",
   "execution_count": 31,
   "id": "aed90c7e",
   "metadata": {},
   "outputs": [
    {
     "name": "stdout",
     "output_type": "stream",
     "text": [
      "+-----------------+-----------------+\n",
      "|       PR_seconds|       prediction|\n",
      "+-----------------+-----------------+\n",
      "|941.0400009155273|972.0809625750252|\n",
      "|959.6399993896484|971.3641698728927|\n",
      "|923.2700004577637|901.4157980013447|\n",
      "|830.5099983215332|839.7774970076775|\n",
      "|859.1499996185303|877.3700074587806|\n",
      "|861.7199993133545|907.6944414253484|\n",
      "|898.8899993896484|842.3040684579439|\n",
      "|853.1199998855591|868.3939686703186|\n",
      "|957.2299995422363| 878.363313652297|\n",
      "|883.3499984741211|866.2991131107171|\n",
      "+-----------------+-----------------+\n",
      "only showing top 10 rows\n"
     ]
    }
   ],
   "source": [
    "predictions = gbt_model.transform(test_data)\n",
    "predictions.select(\"PR_seconds\", \"prediction\").show(10)"
   ]
  },
  {
   "cell_type": "code",
   "execution_count": 32,
   "id": "5b0d5227",
   "metadata": {},
   "outputs": [
    {
     "name": "stdout",
     "output_type": "stream",
     "text": [
      "Root Mean Squared Error (RMSE) on test data = 62.94 seconds\n",
      "R-squared (R2) on test data = 0.05\n"
     ]
    }
   ],
   "source": [
    "evaluator = RegressionEvaluator(\n",
    "    labelCol=\"PR_seconds\",\n",
    "    predictionCol=\"prediction\",\n",
    "    metricName=\"rmse\"  \n",
    ")\n",
    "rmse = evaluator.evaluate(predictions)\n",
    "print(f\"Root Mean Squared Error (RMSE) on test data = {rmse:.2f} seconds\")\n",
    "r2_evaluator = evaluator.setMetricName(\"r2\")\n",
    "r2 = r2_evaluator.evaluate(predictions)\n",
    "print(f\"R-squared (R2) on test data = {r2:.2f}\")\n"
   ]
  },
  {
   "cell_type": "markdown",
   "id": "9cdf43a0",
   "metadata": {},
   "source": [
    "This model sucks. It is on average 62.94 seconds off. Will try to impute with indicators next. Then add more features like progression, but realistically, I just don't have enough data yet to make a broad enough model to account for all the factors at play."
   ]
  },
  {
   "cell_type": "code",
   "execution_count": null,
   "id": "7515ea53",
   "metadata": {},
   "outputs": [],
   "source": []
  }
 ],
 "metadata": {
  "kernelspec": {
   "display_name": "base",
   "language": "python",
   "name": "python3"
  },
  "language_info": {
   "codemirror_mode": {
    "name": "ipython",
    "version": 3
   },
   "file_extension": ".py",
   "mimetype": "text/x-python",
   "name": "python",
   "nbconvert_exporter": "python",
   "pygments_lexer": "ipython3",
   "version": "3.12.7"
  }
 },
 "nbformat": 4,
 "nbformat_minor": 5
}
