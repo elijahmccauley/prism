{
 "cells": [
  {
   "cell_type": "code",
   "execution_count": 1,
   "id": "0f437f58",
   "metadata": {},
   "outputs": [],
   "source": [
    "from pyspark.sql.functions import col, split, concat_ws, when, size, min, trim, round, mean, lit"
   ]
  },
  {
   "cell_type": "code",
   "execution_count": 2,
   "id": "088cf793",
   "metadata": {},
   "outputs": [],
   "source": [
    "from pyspark.ml.feature import VectorAssembler\n",
    "from pyspark.ml.regression import GBTRegressor\n",
    "from pyspark.ml.evaluation import RegressionEvaluator"
   ]
  },
  {
   "cell_type": "code",
   "execution_count": 3,
   "id": "dfcd1082",
   "metadata": {},
   "outputs": [
    {
     "name": "stderr",
     "output_type": "stream",
     "text": [
      "WARNING: Using incubator modules: jdk.incubator.vector\n",
      "Using Spark's default log4j profile: org/apache/spark/log4j2-defaults.properties\n",
      "Setting default log level to \"WARN\".\n",
      "To adjust logging level use sc.setLogLevel(newLevel). For SparkR, use setLogLevel(newLevel).\n",
      "25/06/13 18:00:37 WARN NativeCodeLoader: Unable to load native-hadoop library for your platform... using builtin-java classes where applicable\n"
     ]
    },
    {
     "data": {
      "text/html": [
       "\n",
       "            <div>\n",
       "                <p><b>SparkSession - in-memory</b></p>\n",
       "                \n",
       "        <div>\n",
       "            <p><b>SparkContext</b></p>\n",
       "\n",
       "            <p><a href=\"http://elijahs-mbp.attlocal.net:4040\">Spark UI</a></p>\n",
       "\n",
       "            <dl>\n",
       "              <dt>Version</dt>\n",
       "                <dd><code>v4.0.0</code></dd>\n",
       "              <dt>Master</dt>\n",
       "                <dd><code>local[*]</code></dd>\n",
       "              <dt>AppName</dt>\n",
       "                <dd><code>TrackTimePrediction</code></dd>\n",
       "            </dl>\n",
       "        </div>\n",
       "        \n",
       "            </div>\n",
       "        "
      ],
      "text/plain": [
       "<pyspark.sql.session.SparkSession at 0x14fc86450>"
      ]
     },
     "execution_count": 3,
     "metadata": {},
     "output_type": "execute_result"
    }
   ],
   "source": [
    "import findspark\n",
    "findspark.init()\n",
    "\n",
    "from pyspark.sql import SparkSession\n",
    "\n",
    "spark = SparkSession.builder \\\n",
    "    .master(\"local[*]\") \\\n",
    "    .appName(\"TrackTimePrediction\") \\\n",
    "    .getOrCreate()\n",
    "\n",
    "spark"
   ]
  },
  {
   "cell_type": "code",
   "execution_count": null,
   "id": "2617b182",
   "metadata": {},
   "outputs": [],
   "source": [
    "spark.stop()"
   ]
  },
  {
   "cell_type": "markdown",
   "id": "df91306a",
   "metadata": {},
   "source": [
    "Machine learning time"
   ]
  },
  {
   "cell_type": "code",
   "execution_count": 34,
   "id": "8eef1f00",
   "metadata": {},
   "outputs": [
    {
     "name": "stdout",
     "output_type": "stream",
     "text": [
      "2104\n",
      "+-------------+-----+----------+--------------------+-----+-----+------+-----+-----+------+------+-------+-------+-------+-------+-------+-------+-------+-------+------+------+------+------+-------+-----------------+\n",
      "| athlete_name|  _c0|Unnamed: 0|      Athlete/School|Grade|State|Gender|FR_5k|SO_5k| JR_5k| SR_5k|FR_3200|SO_3200|JR_3200|SR_3200|FR_1600|SO_1600|JR_1600|SR_1600|FR_800|SO_800|JR_800|SR_800|     id|       PR_seconds|\n",
      "+-------------+-----+----------+--------------------+-----+-----+------+-----+-----+------+------+-------+-------+-------+-------+-------+-------+-------+-------+------+------+------+------+-------+-----------------+\n",
      "|Camron Gaddis|66230|      3024|Camron Gaddis Col...| 2022|   GA|  Boys| NULL| NULL|1093.4|1037.4|   NULL|  683.8|   NULL|  623.9|   NULL|  303.4|  294.6|  287.2|  NULL| 138.5|  NULL| 126.5|8265308|932.5400009155273|\n",
      "+-------------+-----+----------+--------------------+-----+-----+------+-----+-----+------+------+-------+-------+-------+-------+-------+-------+-------+-------+------+------+------+------+-------+-----------------+\n",
      "only showing top 1 row\n"
     ]
    }
   ],
   "source": [
    "file_path1 = \"./final_database/merged_half_thresh.csv\"\n",
    "df = spark.read.csv(file_path1, header=True, inferSchema=True)\n",
    "df = df.filter(col(\"PR_seconds\") >= 700)\n",
    "print(df.count())\n",
    "df.show(1)"
   ]
  },
  {
   "cell_type": "markdown",
   "id": "5ccc9485",
   "metadata": {},
   "source": [
    "To deal with NULLs, will try imputing with an indicator column, and simply setting the NULLs to a very large value. The first is more robust, but I worry about setting nulls to the mean since I am hoping to capture trends"
   ]
  },
  {
   "cell_type": "code",
   "execution_count": 35,
   "id": "cf1d81c9",
   "metadata": {},
   "outputs": [
    {
     "name": "stdout",
     "output_type": "stream",
     "text": [
      "+-------------+-----+----------+--------------------+-----+-----+------+---------+---------+-----------------+-----------------+---------+-------+---------+-------+---------+---------+---------+-------+---------+---------+---------+---------+-------+------------------+\n",
      "| athlete_name|  _c0|Unnamed: 0|      Athlete/School|Grade|State|Gender|    FR_5k|    SO_5k|            JR_5k|            SR_5k|  FR_3200|SO_3200|  JR_3200|SR_3200|  FR_1600|  SO_1600|  JR_1600|SR_1600|   FR_800|   SO_800|   JR_800|   SR_800|     id|        PR_seconds|\n",
      "+-------------+-----+----------+--------------------+-----+-----+------+---------+---------+-----------------+-----------------+---------+-------+---------+-------+---------+---------+---------+-------+---------+---------+---------+---------+-------+------------------+\n",
      "|Camron Gaddis|66230|      3024|Camron Gaddis Col...| 2022|   GA|  Boys|9999999.0|9999999.0|           1093.4|           1037.4|9999999.0|  683.8|9999999.0|  623.9|9999999.0|    303.4|    294.6|  287.2|9999999.0|    138.5|9999999.0|    126.5|8265308| 932.5400009155273|\n",
      "|   David Leff|26655|      6195|David Leff West G...| 2017|   NY|  Boys|    984.3|    995.1|            978.2|            941.3|    585.8|  594.9|    557.2|  573.5|    269.6|    268.8|    257.3|  268.7|    127.1|9999999.0|    118.4|9999999.0|6430621| 872.3899993896484|\n",
      "|Brandon Perry| 2926|      2926|Brandon Perry Arn...| 2011|   CA|  Boys|9999999.0|  1012.77|956.8666666666668|933.9266666666666|    638.2|  589.3|    575.9|  567.9|9999999.0|9999999.0|9999999.0|  262.2|9999999.0|9999999.0|9999999.0|9999999.0|3764651|  902.539999961853|\n",
      "|  Aiden Ayala|63550|       344|Aiden Ayala Gaine...| 2022|   GA|  Boys|9999999.0|   1050.0|           1025.0|           1046.3|    661.7|  641.3|    623.5|  635.4|9999999.0|    301.0|    289.0|  286.6|9999999.0|9999999.0|    131.8|    126.5|8235001|1072.4599990844727|\n",
      "|   Cade Eells|24002|      3542|Cade Eells Ithaca...| 2021|   NY|  Boys|   1041.2|   1034.0|           1009.5|        9999999.0|    614.3|  615.0|9999999.0|  597.7|    290.8|9999999.0|9999999.0|  272.3|9999999.0|9999999.0|9999999.0|    127.2|7993015| 920.5200004577637|\n",
      "+-------------+-----+----------+--------------------+-----+-----+------+---------+---------+-----------------+-----------------+---------+-------+---------+-------+---------+---------+---------+-------+---------+---------+---------+---------+-------+------------------+\n",
      "only showing top 5 rows\n"
     ]
    }
   ],
   "source": [
    "df = df.fillna(9999999, subset=['FR_5k', 'SO_5k', 'JR_5k', 'SR_5k', 'FR_3200', 'SO_3200', 'JR_3200', 'SR_3200', 'FR_1600', 'SO_1600', 'JR_1600', 'SR_1600', 'FR_800', 'SO_800', 'JR_800', 'SR_800'])\n",
    "df.show(5)"
   ]
  },
  {
   "cell_type": "code",
   "execution_count": 36,
   "id": "c6d5fda9",
   "metadata": {},
   "outputs": [
    {
     "name": "stdout",
     "output_type": "stream",
     "text": [
      "+-----------------------------------------------------------------------------------------------------------------------------------------------------------+------------------+\n",
      "|features                                                                                                                                                   |PR_seconds        |\n",
      "+-----------------------------------------------------------------------------------------------------------------------------------------------------------+------------------+\n",
      "|[9999999.0,9999999.0,1093.4,1037.4,9999999.0,683.8,9999999.0,623.9,9999999.0,303.4,294.6,287.2,9999999.0,138.5,9999999.0,126.5]                            |932.5400009155273 |\n",
      "|[984.3,995.1,978.2,941.3,585.8,594.9,557.2,573.5,269.6,268.8,257.3,268.7,127.1,9999999.0,118.4,9999999.0]                                                  |872.3899993896484 |\n",
      "|[9999999.0,1012.77,956.8666666666668,933.9266666666666,638.2,589.3,575.9,567.9,9999999.0,9999999.0,9999999.0,262.2,9999999.0,9999999.0,9999999.0,9999999.0]|902.539999961853  |\n",
      "|[9999999.0,1050.0,1025.0,1046.3,661.7,641.3,623.5,635.4,9999999.0,301.0,289.0,286.6,9999999.0,9999999.0,131.8,126.5]                                       |1072.4599990844727|\n",
      "|[1041.2,1034.0,1009.5,9999999.0,614.3,615.0,9999999.0,597.7,290.8,9999999.0,9999999.0,272.3,9999999.0,9999999.0,9999999.0,127.2]                           |920.5200004577637 |\n",
      "+-----------------------------------------------------------------------------------------------------------------------------------------------------------+------------------+\n",
      "only showing top 5 rows\n"
     ]
    }
   ],
   "source": [
    "feature_cols = ['FR_5k', 'SO_5k', 'JR_5k', 'SR_5k', 'FR_3200', 'SO_3200', 'JR_3200', 'SR_3200', 'FR_1600', 'SO_1600', 'JR_1600', 'SR_1600', 'FR_800', 'SO_800', 'JR_800', 'SR_800']\n",
    "assembler = VectorAssembler(inputCols=feature_cols, outputCol=\"features\", handleInvalid='keep')\n",
    "model_df = assembler.transform(df)\n",
    "model_df.select('features', 'PR_seconds').show(5, truncate=False)"
   ]
  },
  {
   "cell_type": "code",
   "execution_count": 37,
   "id": "97e31773",
   "metadata": {},
   "outputs": [
    {
     "name": "stdout",
     "output_type": "stream",
     "text": [
      "Training Dataset Count: 1674\n",
      "Test Dataset Count: 430\n"
     ]
    }
   ],
   "source": [
    "train_data, test_data = model_df.randomSplit(weights=[0.8, 0.2], seed=27)\n",
    "print(f\"Training Dataset Count: {train_data.count()}\")\n",
    "print(f\"Test Dataset Count: {test_data.count()}\")"
   ]
  },
  {
   "cell_type": "code",
   "execution_count": 38,
   "id": "c8456cc7",
   "metadata": {},
   "outputs": [
    {
     "name": "stdout",
     "output_type": "stream",
     "text": [
      "Training the GBT model...\n",
      "Training complete.\n"
     ]
    }
   ],
   "source": [
    "gbt = GBTRegressor(featuresCol='features', labelCol='PR_seconds')\n",
    "print(\"Training the GBT model...\")\n",
    "gbt_model = gbt.fit(train_data)\n",
    "print(\"Training complete.\")"
   ]
  },
  {
   "cell_type": "code",
   "execution_count": 39,
   "id": "aed90c7e",
   "metadata": {},
   "outputs": [
    {
     "name": "stdout",
     "output_type": "stream",
     "text": [
      "+-----------------+-----------------+\n",
      "|       PR_seconds|       prediction|\n",
      "+-----------------+-----------------+\n",
      "|941.0400009155273|972.2497672368311|\n",
      "|959.6399993896484|954.3213327322514|\n",
      "|923.2700004577637|883.7600439040624|\n",
      "|830.5099983215332|900.0275340992043|\n",
      "|859.1499996185303|884.8728660098963|\n",
      "|861.7199993133545|907.1132864650324|\n",
      "|898.8899993896484|869.9006605862978|\n",
      "|853.1199998855591|898.4769341416701|\n",
      "| 953.560001373291|952.4027269978859|\n",
      "|          1032.25|895.0839188482045|\n",
      "+-----------------+-----------------+\n",
      "only showing top 10 rows\n"
     ]
    }
   ],
   "source": [
    "predictions = gbt_model.transform(test_data)\n",
    "predictions.select(\"PR_seconds\", \"prediction\").show(10)"
   ]
  },
  {
   "cell_type": "code",
   "execution_count": 40,
   "id": "5b0d5227",
   "metadata": {},
   "outputs": [
    {
     "name": "stdout",
     "output_type": "stream",
     "text": [
      "Root Mean Squared Error (RMSE) on test data = 49.50 seconds\n",
      "R-squared (R2) on test data = 0.18\n"
     ]
    }
   ],
   "source": [
    "evaluator = RegressionEvaluator(\n",
    "    labelCol=\"PR_seconds\",\n",
    "    predictionCol=\"prediction\",\n",
    "    metricName=\"rmse\"  \n",
    ")\n",
    "rmse = evaluator.evaluate(predictions)\n",
    "print(f\"Root Mean Squared Error (RMSE) on test data = {rmse:.2f} seconds\")\n",
    "r2_evaluator = evaluator.setMetricName(\"r2\")\n",
    "r2 = r2_evaluator.evaluate(predictions)\n",
    "print(f\"R-squared (R2) on test data = {r2:.2f}\")\n"
   ]
  },
  {
   "cell_type": "markdown",
   "id": "9cdf43a0",
   "metadata": {},
   "source": [
    "This model sucks. It is on average 62.94 seconds off. Will try to impute with indicators next. Then add more features like progression, but realistically, I just don't have enough data yet to make a broad enough model to account for all the factors at play. Will also try using the dataset with a lower threshold. (After removing the 100s 5k times, RMSE=49.50 seconds)"
   ]
  },
  {
   "cell_type": "code",
   "execution_count": 20,
   "id": "7515ea53",
   "metadata": {},
   "outputs": [
    {
     "name": "stdout",
     "output_type": "stream",
     "text": [
      "+-------------+-----+----------+--------------------+-----+-----+------+------------------+----------------+------+------+-----------------+-------+-----------------+-------+-----------------+-------+-------+-------+-----------------+------+------------------+------+-------+-----------------+-----------------+-----------------+-----------------+-----------------+-------------------+-------------------+-------------------+-------------------+-------------------+-------------------+-------------------+-------------------+------------------+------------------+------------------+------------------+\n",
      "| athlete_name|  _c0|Unnamed: 0|      Athlete/School|Grade|State|Gender|             FR_5k|           SO_5k| JR_5k| SR_5k|          FR_3200|SO_3200|          JR_3200|SR_3200|          FR_1600|SO_1600|JR_1600|SR_1600|           FR_800|SO_800|            JR_800|SR_800|     id|       PR_seconds|FR_5k_was_missing|SO_5k_was_missing|JR_5k_was_missing|SR_5k_was_missing|FR_3200_was_missing|SO_3200_was_missing|JR_3200_was_missing|SR_3200_was_missing|FR_1600_was_missing|SO_1600_was_missing|JR_1600_was_missing|SR_1600_was_missing|FR_800_was_missing|SO_800_was_missing|JR_800_was_missing|SR_800_was_missing|\n",
      "+-------------+-----+----------+--------------------+-----+-----+------+------------------+----------------+------+------+-----------------+-------+-----------------+-------+-----------------+-------+-------+-------+-----------------+------+------------------+------+-------+-----------------+-----------------+-----------------+-----------------+-----------------+-------------------+-------------------+-------------------+-------------------+-------------------+-------------------+-------------------+-------------------+------------------+------------------+------------------+------------------+\n",
      "|Camron Gaddis|66230|      3024|Camron Gaddis Col...| 2022|   GA|  Boys|1020.0831104356615|998.493021612634|1093.4|1037.4|624.0475238095241|  683.8|588.9320044918588|  623.9|285.2299076212471|  303.4|  294.6|  287.2|127.9036666666666| 138.5|122.87786960514215| 126.5|8265308|932.5400009155273|                1|                1|                0|                0|                  1|                  0|                  1|                  0|                  1|                  0|                  0|                  0|                 1|                 0|                 1|                 0|\n",
      "+-------------+-----+----------+--------------------+-----+-----+------+------------------+----------------+------+------+-----------------+-------+-----------------+-------+-----------------+-------+-------+-------+-----------------+------+------------------+------+-------+-----------------+-----------------+-----------------+-----------------+-----------------+-------------------+-------------------+-------------------+-------------------+-------------------+-------------------+-------------------+-------------------+------------------+------------------+------------------+------------------+\n",
      "only showing top 1 row\n"
     ]
    }
   ],
   "source": [
    "mean_val = df.select(mean(col(\"SR_800\"))).first()[0]\n",
    "df = df.withColumn(\n",
    "    \"SR_800_was_missing\",\n",
    "    when(col(\"SR_800\").isNull(), 1).otherwise(0)\n",
    ")\n",
    "df = df.fillna(mean_val, subset=[\"SR_800\"])\n",
    "df.show(1)"
   ]
  },
  {
   "cell_type": "code",
   "execution_count": 21,
   "id": "143ce2f4",
   "metadata": {},
   "outputs": [],
   "source": [
    "output_path = './final_database'\n",
    "df.coalesce(1).write \\\n",
    "    .option('header', 'true') \\\n",
    "    .mode('append') \\\n",
    "    .csv(output_path) "
   ]
  },
  {
   "cell_type": "code",
   "execution_count": 28,
   "id": "ccffc117",
   "metadata": {},
   "outputs": [
    {
     "name": "stdout",
     "output_type": "stream",
     "text": [
      "+------------------------------------------------------------------------------------------------------------------------------------------------------------------------------------------------------------------------------------------------------------------------------------------------+------------------+\n",
      "|features                                                                                                                                                                                                                                                                                        |PR_seconds        |\n",
      "+------------------------------------------------------------------------------------------------------------------------------------------------------------------------------------------------------------------------------------------------------------------------------------------------+------------------+\n",
      "|[1020.0831104356615,998.493021612634,1093.4,1037.4,624.0475238095241,683.8,588.9320044918588,623.9,285.2299076212471,303.4,294.6,287.2,127.9036666666666,138.5,122.87786960514215,126.5,1.0,1.0,0.0,0.0,1.0,0.0,1.0,0.0,1.0,0.0,0.0,0.0,1.0,0.0,1.0,0.0]                                        |932.5400009155273 |\n",
      "|(32,[0,1,2,3,4,5,6,7,8,9,10,11,12,13,14,15,29,31],[984.3,995.1,978.2,941.3,585.8,594.9,557.2,573.5,269.6,268.8,257.3,268.7,127.1,125.11260504201692,118.4,121.41577235772336,1.0,1.0])                                                                                                          |872.3899993896484 |\n",
      "|[1020.0831104356615,1012.77,956.8666666666668,933.9266666666666,638.2,589.3,575.9,567.9,285.2299076212471,278.39048473967654,271.5618001046575,262.2,127.9036666666666,125.11260504201692,122.87786960514215,121.41577235772336,1.0,0.0,0.0,0.0,0.0,0.0,0.0,0.0,1.0,1.0,1.0,0.0,1.0,1.0,1.0,1.0]|902.539999961853  |\n",
      "|(32,[0,1,2,3,4,5,6,7,8,9,10,11,12,13,14,15,16,24,28,29],[1020.0831104356615,1050.0,1025.0,1046.3,661.7,641.3,623.5,635.4,285.2299076212471,301.0,289.0,286.6,127.9036666666666,125.11260504201692,131.8,126.5,1.0,1.0,1.0,1.0])                                                                 |1072.4599990844727|\n",
      "|[1041.2,1034.0,1009.5,960.5434712529078,614.3,615.0,588.9320044918588,597.7,290.8,278.39048473967654,271.5618001046575,272.3,127.9036666666666,125.11260504201692,122.87786960514215,127.2,0.0,0.0,0.0,1.0,0.0,0.0,1.0,0.0,0.0,1.0,1.0,0.0,1.0,1.0,1.0,0.0]                                     |920.5200004577637 |\n",
      "+------------------------------------------------------------------------------------------------------------------------------------------------------------------------------------------------------------------------------------------------------------------------------------------------+------------------+\n",
      "only showing top 5 rows\n"
     ]
    }
   ],
   "source": [
    "feature_cols = ['FR_5k', 'SO_5k', 'JR_5k', 'SR_5k', 'FR_3200', 'SO_3200', 'JR_3200', 'SR_3200', 'FR_1600', 'SO_1600', 'JR_1600', 'SR_1600', 'FR_800', 'SO_800', 'JR_800', 'SR_800', 'FR_5k_was_missing', 'SO_5k_was_missing', 'JR_5k_was_missing', 'SR_5k_was_missing', 'FR_3200_was_missing', 'SO_3200_was_missing', 'JR_3200_was_missing', 'SR_3200_was_missing', 'FR_1600_was_missing', 'SO_1600_was_missing', 'JR_1600_was_missing', 'SR_1600_was_missing', 'FR_800_was_missing', 'SO_800_was_missing', 'JR_800_was_missing', 'SR_800_was_missing']\n",
    "assembler = VectorAssembler(inputCols=feature_cols, outputCol=\"features\", handleInvalid='keep')\n",
    "df = df.filter(col(\"PR_seconds\") >= 700)\n",
    "model_df = assembler.transform(df)\n",
    "model_df.select('features', 'PR_seconds').show(5, truncate=False)"
   ]
  },
  {
   "cell_type": "code",
   "execution_count": 29,
   "id": "f0c0ad5b",
   "metadata": {},
   "outputs": [
    {
     "name": "stdout",
     "output_type": "stream",
     "text": [
      "Training Dataset Count: 1674\n",
      "Test Dataset Count: 430\n"
     ]
    }
   ],
   "source": [
    "train_data, test_data = model_df.randomSplit(weights=[0.8, 0.2], seed=27)\n",
    "print(f\"Training Dataset Count: {train_data.count()}\")\n",
    "print(f\"Test Dataset Count: {test_data.count()}\")"
   ]
  },
  {
   "cell_type": "code",
   "execution_count": 30,
   "id": "08a12490",
   "metadata": {},
   "outputs": [
    {
     "name": "stdout",
     "output_type": "stream",
     "text": [
      "Training the GBT model...\n",
      "Training complete.\n"
     ]
    }
   ],
   "source": [
    "gbt = GBTRegressor(featuresCol='features', labelCol='PR_seconds')\n",
    "print(\"Training the GBT model...\")\n",
    "gbt_model = gbt.fit(train_data)\n",
    "print(\"Training complete.\")"
   ]
  },
  {
   "cell_type": "code",
   "execution_count": 31,
   "id": "b218fd5e",
   "metadata": {},
   "outputs": [
    {
     "name": "stdout",
     "output_type": "stream",
     "text": [
      "+-----------------+-----------------+\n",
      "|       PR_seconds|       prediction|\n",
      "+-----------------+-----------------+\n",
      "|941.0400009155273| 977.333144883867|\n",
      "|959.6399993896484| 928.208166833752|\n",
      "|923.2700004577637|893.8190946081899|\n",
      "|830.5099983215332|860.7848673273243|\n",
      "|859.1499996185303|889.2774269624757|\n",
      "|861.7199993133545| 930.300700889342|\n",
      "|898.8899993896484|874.7672352746899|\n",
      "|853.1199998855591|903.1277896541882|\n",
      "| 953.560001373291|934.2828194711383|\n",
      "|          1032.25|898.5539524793979|\n",
      "|895.4799995422363| 856.389278438852|\n",
      "|879.1500015258789| 894.046618535767|\n",
      "|916.7800006866455|952.2994359247733|\n",
      "|869.8500003814697|901.9905071474188|\n",
      "|865.8600006103516|894.1194575416987|\n",
      "|878.4000015258789|865.9630206378258|\n",
      "|862.3500003814697|818.4050534173716|\n",
      "|937.2700004577637|931.6598153699335|\n",
      "|993.7700004577637|934.7215854978413|\n",
      "|896.4000015258789|880.9584785200562|\n",
      "+-----------------+-----------------+\n",
      "only showing top 20 rows\n"
     ]
    }
   ],
   "source": [
    "predictions = gbt_model.transform(test_data)\n",
    "predictions.select(\"PR_seconds\", \"prediction\").show(20)"
   ]
  },
  {
   "cell_type": "code",
   "execution_count": 32,
   "id": "111dcc7a",
   "metadata": {},
   "outputs": [
    {
     "name": "stdout",
     "output_type": "stream",
     "text": [
      "Root Mean Squared Error (RMSE) on test data = 49.93 seconds\n",
      "R-squared (R2) on test data = 0.16\n"
     ]
    }
   ],
   "source": [
    "evaluator = RegressionEvaluator(\n",
    "    labelCol=\"PR_seconds\",\n",
    "    predictionCol=\"prediction\",\n",
    "    metricName=\"rmse\"  \n",
    ")\n",
    "rmse = evaluator.evaluate(predictions)\n",
    "print(f\"Root Mean Squared Error (RMSE) on test data = {rmse:.2f} seconds\")\n",
    "r2_evaluator = evaluator.setMetricName(\"r2\")\n",
    "r2 = r2_evaluator.evaluate(predictions)\n",
    "print(f\"R-squared (R2) on test data = {r2:.2f}\")"
   ]
  },
  {
   "cell_type": "markdown",
   "id": "f19ef64d",
   "metadata": {},
   "source": [
    "Imputing with the mean and marking which rows were missing was worse: 74.15 seconds off on average. Will test the other data set next and add new features soon. (I accidentally had some 800m results as 5k times, new RMSE = 49.93)"
   ]
  }
 ],
 "metadata": {
  "kernelspec": {
   "display_name": "base",
   "language": "python",
   "name": "python3"
  },
  "language_info": {
   "codemirror_mode": {
    "name": "ipython",
    "version": 3
   },
   "file_extension": ".py",
   "mimetype": "text/x-python",
   "name": "python",
   "nbconvert_exporter": "python",
   "pygments_lexer": "ipython3",
   "version": "3.12.7"
  }
 },
 "nbformat": 4,
 "nbformat_minor": 5
}
