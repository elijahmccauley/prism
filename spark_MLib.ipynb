{
 "cells": [
  {
   "cell_type": "code",
   "execution_count": 1,
   "id": "0f437f58",
   "metadata": {},
   "outputs": [],
   "source": [
    "from pyspark.sql.functions import col, split, concat_ws, when, size, min, trim, round, mean, lit, max"
   ]
  },
  {
   "cell_type": "code",
   "execution_count": 2,
   "id": "088cf793",
   "metadata": {},
   "outputs": [],
   "source": [
    "from pyspark.ml.feature import VectorAssembler\n",
    "from pyspark.ml.regression import GBTRegressor\n",
    "from pyspark.ml.evaluation import RegressionEvaluator"
   ]
  },
  {
   "cell_type": "code",
   "execution_count": 28,
   "id": "dfcd1082",
   "metadata": {},
   "outputs": [
    {
     "name": "stderr",
     "output_type": "stream",
     "text": [
      "25/06/14 12:24:54 WARN Utils: Service 'SparkUI' could not bind on port 4040. Attempting port 4041.\n"
     ]
    },
    {
     "data": {
      "text/html": [
       "\n",
       "            <div>\n",
       "                <p><b>SparkSession - in-memory</b></p>\n",
       "                \n",
       "        <div>\n",
       "            <p><b>SparkContext</b></p>\n",
       "\n",
       "            <p><a href=\"http://elijahs-mbp.attlocal.net:4041\">Spark UI</a></p>\n",
       "\n",
       "            <dl>\n",
       "              <dt>Version</dt>\n",
       "                <dd><code>v4.0.0</code></dd>\n",
       "              <dt>Master</dt>\n",
       "                <dd><code>local[*]</code></dd>\n",
       "              <dt>AppName</dt>\n",
       "                <dd><code>TrackTimePrediction</code></dd>\n",
       "            </dl>\n",
       "        </div>\n",
       "        \n",
       "            </div>\n",
       "        "
      ],
      "text/plain": [
       "<pyspark.sql.session.SparkSession at 0x13f2cede0>"
      ]
     },
     "execution_count": 28,
     "metadata": {},
     "output_type": "execute_result"
    }
   ],
   "source": [
    "import findspark\n",
    "findspark.init()\n",
    "\n",
    "from pyspark.sql import SparkSession\n",
    "\n",
    "spark = SparkSession.builder \\\n",
    "    .master(\"local[*]\") \\\n",
    "    .appName(\"TrackTimePrediction\") \\\n",
    "    .getOrCreate()\n",
    "\n",
    "spark"
   ]
  },
  {
   "cell_type": "code",
   "execution_count": 27,
   "id": "2617b182",
   "metadata": {},
   "outputs": [],
   "source": [
    "spark.stop()"
   ]
  },
  {
   "cell_type": "markdown",
   "id": "df91306a",
   "metadata": {},
   "source": [
    "Machine learning time"
   ]
  },
  {
   "cell_type": "code",
   "execution_count": 29,
   "id": "8eef1f00",
   "metadata": {},
   "outputs": [
    {
     "name": "stdout",
     "output_type": "stream",
     "text": [
      "3675\n",
      "+--------------+---+----------+--------------------+-----+-----+------+-----+-----+-----------------+-----------------+-------+-------+-------+-------+-------+-------+-------+-------+------+------+------+------+-------+-----------------+\n",
      "|  athlete_name|_c0|Unnamed: 0|      Athlete/School|Grade|State|Gender|FR_5k|SO_5k|            JR_5k|            SR_5k|FR_3200|SO_3200|JR_3200|SR_3200|FR_1600|SO_1600|JR_1600|SR_1600|FR_800|SO_800|JR_800|SR_800|     id|       PR_seconds|\n",
      "+--------------+---+----------+--------------------+-----+-----+------+-----+-----+-----------------+-----------------+-------+-------+-------+-------+-------+-------+-------+-------+------+------+------+------+-------+-----------------+\n",
      "|Aakersh Mathur| 16|        16|Aakersh Mathur Mo...| 2021|   CA|  Boys| NULL| NULL|961.5166666666668|952.7333333333336|   NULL|  600.4|   NULL|  559.4|   NULL|   NULL|  269.0|  260.7|  NULL|  NULL|  NULL| 123.9|8073383|919.0499992370605|\n",
      "+--------------+---+----------+--------------------+-----+-----+------+-----+-----+-----------------+-----------------+-------+-------+-------+-------+-------+-------+-------+-------+------+------+------+------+-------+-----------------+\n",
      "only showing top 1 row\n"
     ]
    }
   ],
   "source": [
    "file_path1 = \"./final_database/merged_five_thresh.csv\"\n",
    "df = spark.read.csv(file_path1, header=True, inferSchema=True)\n",
    "df = df.filter(col(\"PR_seconds\") >= 700)\n",
    "print(df.count())\n",
    "df.show(1)"
   ]
  },
  {
   "cell_type": "markdown",
   "id": "5ccc9485",
   "metadata": {},
   "source": [
    "To deal with NULLs, will try imputing with an indicator column, and simply setting the NULLs to a very large value. The first is more robust, but I worry about setting nulls to the mean since I am hoping to capture trends"
   ]
  },
  {
   "cell_type": "code",
   "execution_count": 30,
   "id": "cf1d81c9",
   "metadata": {},
   "outputs": [
    {
     "name": "stdout",
     "output_type": "stream",
     "text": [
      "+----------------+---+----------+--------------------+-----+-----+------+---------+-----------------+-----------------+------------------+---------+---------+---------+-------+---------+---------+---------+-------+---------+---------+---------+---------+-------+------------------+\n",
      "|    athlete_name|_c0|Unnamed: 0|      Athlete/School|Grade|State|Gender|    FR_5k|            SO_5k|            JR_5k|             SR_5k|  FR_3200|  SO_3200|  JR_3200|SR_3200|  FR_1600|  SO_1600|  JR_1600|SR_1600|   FR_800|   SO_800|   JR_800|   SR_800|     id|        PR_seconds|\n",
      "+----------------+---+----------+--------------------+-----+-----+------+---------+-----------------+-----------------+------------------+---------+---------+---------+-------+---------+---------+---------+-------+---------+---------+---------+---------+-------+------------------+\n",
      "|  Aakersh Mathur| 16|        16|Aakersh Mathur Mo...| 2021|   CA|  Boys|9999999.0|        9999999.0|961.5166666666668| 952.7333333333336|9999999.0|    600.4|9999999.0|  559.4|9999999.0|9999999.0|    269.0|  260.7|9999999.0|9999999.0|9999999.0|    123.9|8073383| 919.0499992370605|\n",
      "|      Aaron Mora| 97|        97|Aaron Mora Whitti...| 2012|   CA|  Boys|9999999.0|            985.8|            926.9| 915.0166666666668|9999999.0|    597.0|    574.8|  567.8|9999999.0|9999999.0|    267.6|  264.6|9999999.0|9999999.0|9999999.0|9999999.0|4672349| 873.5900001525879|\n",
      "|    Aaron Nguyen| 99|        99|Aaron Nguyen Gold...| 2012|   CA|  Boys|9999999.0|        9999999.0|        9999999.0| 956.8666666666668|9999999.0|    615.7|    602.8|  564.7|9999999.0|9999999.0|9999999.0|  272.5|9999999.0|9999999.0|9999999.0|9999999.0|4227333| 899.3199996948242|\n",
      "|Aaron Richardson|107|       107|Aaron Richardson ...| 2009|   CA|  Boys|9999999.0|        9999999.0|        9999999.0|1007.0866666666668|9999999.0|9999999.0|9999999.0|  605.4|9999999.0|9999999.0|    294.4|  278.9|9999999.0|9999999.0|9999999.0|    126.3|8598734|1030.5200004577637|\n",
      "|  Aaron Zambrano|128|       128|Aaron Zambrano Lo...| 2014|   CA|  Boys|9999999.0|983.7333333333336|928.9666666666668|            928.45|    617.3|    602.4|    595.0|  584.2|9999999.0|9999999.0|9999999.0|  272.9|9999999.0|9999999.0|9999999.0|9999999.0|4981116| 944.5499992370605|\n",
      "+----------------+---+----------+--------------------+-----+-----+------+---------+-----------------+-----------------+------------------+---------+---------+---------+-------+---------+---------+---------+-------+---------+---------+---------+---------+-------+------------------+\n",
      "only showing top 5 rows\n"
     ]
    }
   ],
   "source": [
    "df = df.fillna(9999999, subset=['FR_5k', 'SO_5k', 'JR_5k', 'SR_5k', 'FR_3200', 'SO_3200', 'JR_3200', 'SR_3200', 'FR_1600', 'SO_1600', 'JR_1600', 'SR_1600', 'FR_800', 'SO_800', 'JR_800', 'SR_800'])\n",
    "df.show(5)"
   ]
  },
  {
   "cell_type": "code",
   "execution_count": 31,
   "id": "c6d5fda9",
   "metadata": {},
   "outputs": [
    {
     "name": "stdout",
     "output_type": "stream",
     "text": [
      "+-------------------------------------------------------------------------------------------------------------------------------------------------------------+------------------+\n",
      "|features                                                                                                                                                     |PR_seconds        |\n",
      "+-------------------------------------------------------------------------------------------------------------------------------------------------------------+------------------+\n",
      "|[9999999.0,9999999.0,961.5166666666668,952.7333333333336,9999999.0,600.4,9999999.0,559.4,9999999.0,9999999.0,269.0,260.7,9999999.0,9999999.0,9999999.0,123.9]|919.0499992370605 |\n",
      "|[9999999.0,985.8,926.9,915.0166666666668,9999999.0,597.0,574.8,567.8,9999999.0,9999999.0,267.6,264.6,9999999.0,9999999.0,9999999.0,9999999.0]                |873.5900001525879 |\n",
      "|[9999999.0,9999999.0,9999999.0,956.8666666666668,9999999.0,615.7,602.8,564.7,9999999.0,9999999.0,9999999.0,272.5,9999999.0,9999999.0,9999999.0,9999999.0]    |899.3199996948242 |\n",
      "|[9999999.0,9999999.0,9999999.0,1007.0866666666668,9999999.0,9999999.0,9999999.0,605.4,9999999.0,9999999.0,294.4,278.9,9999999.0,9999999.0,9999999.0,126.3]   |1030.5200004577637|\n",
      "|[9999999.0,983.7333333333336,928.9666666666668,928.45,617.3,602.4,595.0,584.2,9999999.0,9999999.0,9999999.0,272.9,9999999.0,9999999.0,9999999.0,9999999.0]   |944.5499992370605 |\n",
      "+-------------------------------------------------------------------------------------------------------------------------------------------------------------+------------------+\n",
      "only showing top 5 rows\n"
     ]
    }
   ],
   "source": [
    "feature_cols = ['FR_5k', 'SO_5k', 'JR_5k', 'SR_5k', 'FR_3200', 'SO_3200', 'JR_3200', 'SR_3200', 'FR_1600', 'SO_1600', 'JR_1600', 'SR_1600', 'FR_800', 'SO_800', 'JR_800', 'SR_800']\n",
    "assembler = VectorAssembler(inputCols=feature_cols, outputCol=\"features\", handleInvalid='keep')\n",
    "model_df = assembler.transform(df)\n",
    "model_df.select('features', 'PR_seconds').show(5, truncate=False)"
   ]
  },
  {
   "cell_type": "code",
   "execution_count": 32,
   "id": "97e31773",
   "metadata": {},
   "outputs": [
    {
     "name": "stdout",
     "output_type": "stream",
     "text": [
      "Training Dataset Count: 2914\n",
      "Test Dataset Count: 761\n"
     ]
    }
   ],
   "source": [
    "train_data, test_data = model_df.randomSplit(weights=[0.8, 0.2], seed=27)\n",
    "print(f\"Training Dataset Count: {train_data.count()}\")\n",
    "print(f\"Test Dataset Count: {test_data.count()}\")"
   ]
  },
  {
   "cell_type": "code",
   "execution_count": 33,
   "id": "c8456cc7",
   "metadata": {},
   "outputs": [
    {
     "name": "stdout",
     "output_type": "stream",
     "text": [
      "Training the GBT model...\n",
      "Training complete.\n"
     ]
    }
   ],
   "source": [
    "gbt = GBTRegressor(featuresCol='features', labelCol='PR_seconds')\n",
    "print(\"Training the GBT model...\")\n",
    "gbt_model = gbt.fit(train_data)\n",
    "print(\"Training complete.\")"
   ]
  },
  {
   "cell_type": "code",
   "execution_count": 34,
   "id": "aed90c7e",
   "metadata": {},
   "outputs": [
    {
     "name": "stdout",
     "output_type": "stream",
     "text": [
      "+-----------------+-----------------+\n",
      "|       PR_seconds|       prediction|\n",
      "+-----------------+-----------------+\n",
      "|917.2800006866455|929.2156087794947|\n",
      "|919.0499992370605|899.3989735109267|\n",
      "|909.7799997329712|911.3758098588826|\n",
      "|940.8600006103516|922.3412881672614|\n",
      "|953.8800010681152|937.4624097182023|\n",
      "|955.7400016784668|977.1422265497764|\n",
      "|876.2299995422363|874.8827581131434|\n",
      "|859.1499996185303|873.0455639779069|\n",
      "|898.8899993896484|880.6333919090546|\n",
      "|893.9300003051758| 947.107842502953|\n",
      "+-----------------+-----------------+\n",
      "only showing top 10 rows\n"
     ]
    }
   ],
   "source": [
    "predictions = gbt_model.transform(test_data)\n",
    "predictions.select(\"PR_seconds\", \"prediction\").show(10)"
   ]
  },
  {
   "cell_type": "code",
   "execution_count": 35,
   "id": "5b0d5227",
   "metadata": {},
   "outputs": [
    {
     "name": "stdout",
     "output_type": "stream",
     "text": [
      "Root Mean Squared Error (RMSE) on test data = 46.91 seconds\n",
      "R-squared (R2) on test data = 0.27\n"
     ]
    }
   ],
   "source": [
    "evaluator = RegressionEvaluator(\n",
    "    labelCol=\"PR_seconds\",\n",
    "    predictionCol=\"prediction\",\n",
    "    metricName=\"rmse\"  \n",
    ")\n",
    "rmse = evaluator.evaluate(predictions)\n",
    "print(f\"Root Mean Squared Error (RMSE) on test data = {rmse:.2f} seconds\")\n",
    "r2_evaluator = evaluator.setMetricName(\"r2\")\n",
    "r2 = r2_evaluator.evaluate(predictions)\n",
    "print(f\"R-squared (R2) on test data = {r2:.2f}\")\n"
   ]
  },
  {
   "cell_type": "markdown",
   "id": "9cdf43a0",
   "metadata": {},
   "source": [
    "This model sucks. It is on average 62.94 seconds off. Will try to impute with indicators next. Then add more features like progression, but realistically, I just don't have enough data yet to make a broad enough model to account for all the factors at play. Will also try using the dataset with a lower threshold. (After removing the 100s 5k times, RMSE=49.50 seconds)\n",
    "\n",
    "Using 5 thresh, RMSE = 46.91"
   ]
  },
  {
   "cell_type": "code",
   "execution_count": 20,
   "id": "7515ea53",
   "metadata": {},
   "outputs": [
    {
     "name": "stdout",
     "output_type": "stream",
     "text": [
      "+-------------+-----+----------+--------------------+-----+-----+------+------+------+------+------+-------+-------+-------+-------+-------+-------+-------+-------+------+------+------+------+-------+-----------------+-----------------+-----------------+-----------------+-----------------+-------------------+-------------------+-------------------+-------------------+-------------------+-------------------+-------------------+-------------------+------------------+------------------+------------------+------------------+\n",
      "| athlete_name|  _c0|Unnamed: 0|      Athlete/School|Grade|State|Gender| FR_5k| SO_5k| JR_5k| SR_5k|FR_3200|SO_3200|JR_3200|SR_3200|FR_1600|SO_1600|JR_1600|SR_1600|FR_800|SO_800|JR_800|SR_800|     id|       PR_seconds|FR_5k_was_missing|SO_5k_was_missing|JR_5k_was_missing|SR_5k_was_missing|FR_3200_was_missing|SO_3200_was_missing|JR_3200_was_missing|SR_3200_was_missing|FR_1600_was_missing|SO_1600_was_missing|JR_1600_was_missing|SR_1600_was_missing|FR_800_was_missing|SO_800_was_missing|JR_800_was_missing|SR_800_was_missing|\n",
      "+-------------+-----+----------+--------------------+-----+-----+------+------+------+------+------+-------+-------+-------+-------+-------+-------+-------+-------+------+------+------+------+-------+-----------------+-----------------+-----------------+-----------------+-----------------+-------------------+-------------------+-------------------+-------------------+-------------------+-------------------+-------------------+-------------------+------------------+------------------+------------------+------------------+\n",
      "|Camron Gaddis|66230|      3024|Camron Gaddis Col...| 2022|   GA|  Boys|1153.1|1223.6|1093.4|1037.4|  782.5|  683.8|  707.1|  623.9|  331.5|  303.4|  294.6|  287.2| 144.1| 138.5| 138.9| 126.5|8265308|932.5400009155273|                1|                1|                0|                0|                  1|                  0|                  1|                  0|                  1|                  0|                  0|                  0|                 1|                 0|                 1|                 0|\n",
      "+-------------+-----+----------+--------------------+-----+-----+------+------+------+------+------+-------+-------+-------+-------+-------+-------+-------+-------+------+------+------+------+-------+-----------------+-----------------+-----------------+-----------------+-----------------+-------------------+-------------------+-------------------+-------------------+-------------------+-------------------+-------------------+-------------------+------------------+------------------+------------------+------------------+\n",
      "only showing top 1 row\n"
     ]
    }
   ],
   "source": [
    "max_val = df.select(max(col(\"SR_800\"))).first()[0]\n",
    "df = df.withColumn(\n",
    "    \"SR_800_was_missing\",\n",
    "    when(col(\"SR_800\").isNull(), 1).otherwise(0)\n",
    ")\n",
    "df = df.fillna(max_val, subset=[\"SR_800\"])\n",
    "df.show(1)"
   ]
  },
  {
   "cell_type": "code",
   "execution_count": 26,
   "id": "143ce2f4",
   "metadata": {},
   "outputs": [],
   "source": [
    "output_path = './final_database'\n",
    "df.coalesce(1).write \\\n",
    "    .option('header', 'true') \\\n",
    "    .mode('append') \\\n",
    "    .csv(output_path) "
   ]
  },
  {
   "cell_type": "code",
   "execution_count": 21,
   "id": "ccffc117",
   "metadata": {},
   "outputs": [
    {
     "name": "stdout",
     "output_type": "stream",
     "text": [
      "+--------------------------------------------------------------------------------------------------------------------------------------------------------------------------------------------+------------------+\n",
      "|features                                                                                                                                                                                    |PR_seconds        |\n",
      "+--------------------------------------------------------------------------------------------------------------------------------------------------------------------------------------------+------------------+\n",
      "|[1153.1,1223.6,1093.4,1037.4,782.5,683.8,707.1,623.9,331.5,303.4,294.6,287.2,144.1,138.5,138.9,126.5,1.0,1.0,0.0,0.0,1.0,0.0,1.0,0.0,1.0,0.0,0.0,0.0,1.0,0.0,1.0,0.0]                       |932.5400009155273 |\n",
      "|(32,[0,1,2,3,4,5,6,7,8,9,10,11,12,13,14,15,29,31],[984.3,995.1,978.2,941.3,585.8,594.9,557.2,573.5,269.6,268.8,257.3,268.7,127.1,140.3,118.4,135.9,1.0,1.0])                                |872.3899993896484 |\n",
      "|[1153.1,1012.77,956.8666666666668,933.9266666666666,638.2,589.3,575.9,567.9,331.5,318.1,314.5,262.2,144.1,140.3,138.9,135.9,1.0,0.0,0.0,0.0,0.0,0.0,0.0,0.0,1.0,1.0,1.0,0.0,1.0,1.0,1.0,1.0]|902.539999961853  |\n",
      "|(32,[0,1,2,3,4,5,6,7,8,9,10,11,12,13,14,15,16,24,28,29],[1153.1,1050.0,1025.0,1046.3,661.7,641.3,623.5,635.4,331.5,301.0,289.0,286.6,144.1,140.3,131.8,126.5,1.0,1.0,1.0,1.0])              |1072.4599990844727|\n",
      "|[1041.2,1034.0,1009.5,1101.4,614.3,615.0,707.1,597.7,290.8,318.1,314.5,272.3,144.1,140.3,138.9,127.2,0.0,0.0,0.0,1.0,0.0,0.0,1.0,0.0,0.0,1.0,1.0,0.0,1.0,1.0,1.0,0.0]                       |920.5200004577637 |\n",
      "+--------------------------------------------------------------------------------------------------------------------------------------------------------------------------------------------+------------------+\n",
      "only showing top 5 rows\n"
     ]
    }
   ],
   "source": [
    "feature_cols = ['FR_5k', 'SO_5k', 'JR_5k', 'SR_5k', 'FR_3200', 'SO_3200', 'JR_3200', 'SR_3200', 'FR_1600', 'SO_1600', 'JR_1600', 'SR_1600', 'FR_800', 'SO_800', 'JR_800', 'SR_800', 'FR_5k_was_missing', 'SO_5k_was_missing', 'JR_5k_was_missing', 'SR_5k_was_missing', 'FR_3200_was_missing', 'SO_3200_was_missing', 'JR_3200_was_missing', 'SR_3200_was_missing', 'FR_1600_was_missing', 'SO_1600_was_missing', 'JR_1600_was_missing', 'SR_1600_was_missing', 'FR_800_was_missing', 'SO_800_was_missing', 'JR_800_was_missing', 'SR_800_was_missing']\n",
    "assembler = VectorAssembler(inputCols=feature_cols, outputCol=\"features\", handleInvalid='keep')\n",
    "df = df.filter(col(\"PR_seconds\") >= 700)\n",
    "model_df = assembler.transform(df)\n",
    "model_df.select('features', 'PR_seconds').show(5, truncate=False)"
   ]
  },
  {
   "cell_type": "code",
   "execution_count": 22,
   "id": "f0c0ad5b",
   "metadata": {},
   "outputs": [
    {
     "name": "stdout",
     "output_type": "stream",
     "text": [
      "Training Dataset Count: 1674\n",
      "Test Dataset Count: 430\n"
     ]
    }
   ],
   "source": [
    "train_data, test_data = model_df.randomSplit(weights=[0.8, 0.2], seed=27)\n",
    "print(f\"Training Dataset Count: {train_data.count()}\")\n",
    "print(f\"Test Dataset Count: {test_data.count()}\")"
   ]
  },
  {
   "cell_type": "code",
   "execution_count": 23,
   "id": "08a12490",
   "metadata": {},
   "outputs": [
    {
     "name": "stdout",
     "output_type": "stream",
     "text": [
      "Training the GBT model...\n",
      "Training complete.\n"
     ]
    }
   ],
   "source": [
    "gbt = GBTRegressor(featuresCol='features', labelCol='PR_seconds')\n",
    "print(\"Training the GBT model...\")\n",
    "gbt_model = gbt.fit(train_data)\n",
    "print(\"Training complete.\")"
   ]
  },
  {
   "cell_type": "code",
   "execution_count": 24,
   "id": "b218fd5e",
   "metadata": {},
   "outputs": [
    {
     "name": "stdout",
     "output_type": "stream",
     "text": [
      "+-----------------+-----------------+\n",
      "|       PR_seconds|       prediction|\n",
      "+-----------------+-----------------+\n",
      "|941.0400009155273|972.0293763635137|\n",
      "|959.6399993896484| 954.321076293701|\n",
      "|923.2700004577637|885.3536942310076|\n",
      "|830.5099983215332|900.0437968598303|\n",
      "|859.1499996185303|884.8728660098963|\n",
      "|861.7199993133545|907.1250123096258|\n",
      "|898.8899993896484|870.3778061449188|\n",
      "|853.1199998855591|898.4769341416701|\n",
      "| 953.560001373291|952.4025915209158|\n",
      "|          1032.25|895.1001816088304|\n",
      "|895.4799995422363|891.7858613886225|\n",
      "|879.1500015258789|938.9552115966691|\n",
      "|916.7800006866455|  916.76716748641|\n",
      "|869.8500003814697|892.2175248938125|\n",
      "|865.8600006103516|881.2351022432816|\n",
      "|878.4000015258789| 856.853246470625|\n",
      "|862.3500003814697|822.8055194531361|\n",
      "|937.2700004577637|954.9042800982579|\n",
      "|993.7700004577637|946.2786449783655|\n",
      "|896.4000015258789|882.4368087909785|\n",
      "+-----------------+-----------------+\n",
      "only showing top 20 rows\n"
     ]
    },
    {
     "name": "stderr",
     "output_type": "stream",
     "text": [
      "25/06/14 11:59:41 WARN InstanceBuilder: Failed to load implementation from:dev.ludovic.netlib.blas.JNIBLAS\n"
     ]
    }
   ],
   "source": [
    "predictions = gbt_model.transform(test_data)\n",
    "predictions.select(\"PR_seconds\", \"prediction\").show(20)"
   ]
  },
  {
   "cell_type": "code",
   "execution_count": 25,
   "id": "111dcc7a",
   "metadata": {},
   "outputs": [
    {
     "name": "stdout",
     "output_type": "stream",
     "text": [
      "Root Mean Squared Error (RMSE) on test data = 49.28 seconds\n",
      "R-squared (R2) on test data = 0.19\n"
     ]
    }
   ],
   "source": [
    "evaluator = RegressionEvaluator(\n",
    "    labelCol=\"PR_seconds\",\n",
    "    predictionCol=\"prediction\",\n",
    "    metricName=\"rmse\"  \n",
    ")\n",
    "rmse = evaluator.evaluate(predictions)\n",
    "print(f\"Root Mean Squared Error (RMSE) on test data = {rmse:.2f} seconds\")\n",
    "r2_evaluator = evaluator.setMetricName(\"r2\")\n",
    "r2 = r2_evaluator.evaluate(predictions)\n",
    "print(f\"R-squared (R2) on test data = {r2:.2f}\")"
   ]
  },
  {
   "cell_type": "markdown",
   "id": "f19ef64d",
   "metadata": {},
   "source": [
    "Imputing with the mean and marking which rows were missing was worse: 74.15 seconds off on average. Will test the other data set next and add new features soon. (I accidentally had some 800m results as 5k times, new RMSE = 49.93). 49.28 using MAX instead of mean."
   ]
  }
 ],
 "metadata": {
  "kernelspec": {
   "display_name": "base",
   "language": "python",
   "name": "python3"
  },
  "language_info": {
   "codemirror_mode": {
    "name": "ipython",
    "version": 3
   },
   "file_extension": ".py",
   "mimetype": "text/x-python",
   "name": "python",
   "nbconvert_exporter": "python",
   "pygments_lexer": "ipython3",
   "version": "3.12.7"
  }
 },
 "nbformat": 4,
 "nbformat_minor": 5
}
